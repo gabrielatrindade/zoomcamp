{
 "cells": [
  {
   "cell_type": "code",
   "execution_count": 1,
   "id": "a2e8279f",
   "metadata": {},
   "outputs": [],
   "source": [
    "import pandas as pd\n",
    "import matplotlib.pyplot as plt\n",
    "import seaborn as sns\n",
    "import numpy as np"
   ]
  },
  {
   "cell_type": "code",
   "execution_count": 2,
   "id": "46824e2b",
   "metadata": {},
   "outputs": [],
   "source": [
    "df = pd.read_csv(\"https://raw.githubusercontent.com/alexeygrigorev/datasets/master/housing.csv\")"
   ]
  },
  {
   "cell_type": "code",
   "execution_count": 3,
   "id": "900e2366",
   "metadata": {},
   "outputs": [
    {
     "name": "stdout",
     "output_type": "stream",
     "text": [
      "<class 'pandas.core.frame.DataFrame'>\n",
      "RangeIndex: 20640 entries, 0 to 20639\n",
      "Data columns (total 10 columns):\n",
      " #   Column              Non-Null Count  Dtype  \n",
      "---  ------              --------------  -----  \n",
      " 0   longitude           20640 non-null  float64\n",
      " 1   latitude            20640 non-null  float64\n",
      " 2   housing_median_age  20640 non-null  float64\n",
      " 3   total_rooms         20640 non-null  float64\n",
      " 4   total_bedrooms      20433 non-null  float64\n",
      " 5   population          20640 non-null  float64\n",
      " 6   households          20640 non-null  float64\n",
      " 7   median_income       20640 non-null  float64\n",
      " 8   median_house_value  20640 non-null  float64\n",
      " 9   ocean_proximity     20640 non-null  object \n",
      "dtypes: float64(9), object(1)\n",
      "memory usage: 1.6+ MB\n"
     ]
    }
   ],
   "source": [
    "df.info()"
   ]
  },
  {
   "cell_type": "code",
   "execution_count": 4,
   "id": "a9e06df7",
   "metadata": {},
   "outputs": [
    {
     "data": {
      "text/plain": [
       "<AxesSubplot:xlabel='median_house_value', ylabel='Count'>"
      ]
     },
     "execution_count": 4,
     "metadata": {},
     "output_type": "execute_result"
    },
    {
     "data": {
      "image/png": "[encoded data removed]",
      "text/plain": [
       "<Figure size 432x288 with 1 Axes>"
      ]
     },
     "metadata": {
      "needs_background": "light"
     },
     "output_type": "display_data"
    }
   ],
   "source": [
    "sns.histplot(df.median_house_value)"
   ]
  },
  {
   "cell_type": "markdown",
   "id": "b51420a5",
   "metadata": {},
   "source": [
    "## Question 1\n",
    "Find a feature with missing values. How many missing values does it have?"
   ]
  },
  {
   "cell_type": "code",
   "execution_count": 8,
   "id": "cd1dd517",
   "metadata": {},
   "outputs": [
    {
     "data": {
      "text/plain": [
       "longitude               0\n",
       "latitude                0\n",
       "housing_median_age      0\n",
       "total_rooms             0\n",
       "total_bedrooms        207\n",
       "population              0\n",
       "households              0\n",
       "median_income           0\n",
       "median_house_value      0\n",
       "ocean_proximity         0\n",
       "dtype: int64"
      ]
     },
     "execution_count": 8,
     "metadata": {},
     "output_type": "execute_result"
    }
   ],
   "source": [
    "df.isnull().sum()"
   ]
  },
  {
   "cell_type": "markdown",
   "id": "377f7dea",
   "metadata": {},
   "source": [
    "## Question 2\n",
    "What's the median (50% percentile) for variable 'population'?"
   ]
  },
  {
   "cell_type": "code",
   "execution_count": 9,
   "id": "04c4c7ab",
   "metadata": {},
   "outputs": [
    {
     "data": {
      "text/plain": [
       "1166.0"
      ]
     },
     "execution_count": 9,
     "metadata": {},
     "output_type": "execute_result"
    }
   ],
   "source": [
    "df.population.median()"
   ]
  },
  {
   "cell_type": "markdown",
   "id": "1fb24135",
   "metadata": {},
   "source": [
    "## Split the data\n",
    "Shuffle the initial dataset, use seed 42.\\\n",
    "Split your data in train/val/test sets, with 60%/20%/20% distribution.\\\n",
    "Make sure that the target value ('median_house_value') is not in your dataframe.\\\n",
    "Apply the log transformation to the median_house_value variable using the np.log1p() function."
   ]
  },
  {
   "cell_type": "code",
   "execution_count": 62,
   "id": "dbb33aa1",
   "metadata": {},
   "outputs": [
    {
     "data": {
      "text/plain": [
       "array(['NEAR BAY', '<1H OCEAN', 'INLAND', 'NEAR OCEAN', 'ISLAND'],\n",
       "      dtype=object)"
      ]
     },
     "execution_count": 62,
     "metadata": {},
     "output_type": "execute_result"
    }
   ],
   "source": [
    "df.ocean_proximity.unique()"
   ]
  },
  {
   "cell_type": "code",
   "execution_count": 63,
   "id": "9c2ec66b",
   "metadata": {},
   "outputs": [],
   "source": [
    "cleaned_df = df.drop('ocean_proximity', axis=1)"
   ]
  },
  {
   "cell_type": "code",
   "execution_count": 64,
   "id": "3a46b0f2",
   "metadata": {},
   "outputs": [],
   "source": [
    "np.random.seed(42)\n",
    "\n",
    "n = len(df)\n",
    "idx = np.arange(n)\n",
    "\n",
    "np.random.shuffle(idx)"
   ]
  },
  {
   "cell_type": "code",
   "execution_count": 65,
   "id": "5588e39e",
   "metadata": {},
   "outputs": [
    {
     "data": {
      "text/plain": [
       "array([20046,  3024, 15663, ...,  5390,   860, 15795])"
      ]
     },
     "execution_count": 65,
     "metadata": {},
     "output_type": "execute_result"
    }
   ],
   "source": [
    "idx"
   ]
  },
  {
   "cell_type": "code",
   "execution_count": 66,
   "id": "7beed887",
   "metadata": {},
   "outputs": [
    {
     "name": "stdout",
     "output_type": "stream",
     "text": [
      "12384 4128 4128\n"
     ]
    }
   ],
   "source": [
    "n_val = int(n*0.2)\n",
    "n_test = int(n*0.2)\n",
    "n_train = n - n_val - n_test\n",
    "\n",
    "print(n_train, n_val, n_test)"
   ]
  },
  {
   "cell_type": "code",
   "execution_count": 67,
   "id": "f2becd57",
   "metadata": {},
   "outputs": [],
   "source": [
    "df_train = cleaned_df.iloc[idx[:n_train]].copy()\n",
    "df_val = cleaned_df.iloc[idx[n_train:n_train+n_val]].copy()\n",
    "df_test = cleaned_df.iloc[idx[n_train+n_val:]].copy()"
   ]
  },
  {
   "cell_type": "code",
   "execution_count": 68,
   "id": "ba28dc41",
   "metadata": {},
   "outputs": [
    {
     "data": {
      "text/plain": [
       "12384"
      ]
     },
     "execution_count": 68,
     "metadata": {},
     "output_type": "execute_result"
    }
   ],
   "source": [
    "len(df_train)"
   ]
  },
  {
   "cell_type": "code",
   "execution_count": 69,
   "id": "f13cebd2",
   "metadata": {},
   "outputs": [],
   "source": [
    "y_train = df_train.median_house_value.copy()\n",
    "y_val = df_val.median_house_value.copy()\n",
    "y_test = df_test.median_house_value.copy()"
   ]
  },
  {
   "cell_type": "code",
   "execution_count": 70,
   "id": "0110110e",
   "metadata": {},
   "outputs": [],
   "source": [
    "df_train.drop('median_house_value', axis=1, inplace=True)\n",
    "df_val.drop('median_house_value', axis=1, inplace=True)\n",
    "df_test.drop('median_house_value', axis=1, inplace=True)"
   ]
  },
  {
   "cell_type": "code",
   "execution_count": 71,
   "id": "56f2be35",
   "metadata": {},
   "outputs": [],
   "source": [
    "y_train = np.log1p(y_train)\n",
    "y_test = np.log1p(y_test)\n",
    "y_val = np.log1p(y_val)"
   ]
  },
  {
   "cell_type": "markdown",
   "id": "94b3838f",
   "metadata": {},
   "source": [
    "## Question 3\n",
    "We need to deal with missing values for the column from Q1.\\\n",
    "We have two options: fill it with 0 or with the mean of this variable.\\\n",
    "Try both options. For each, train a linear regression model without regularization using the code from the lessons.\\\n",
    "For computing the mean, use the training only!\\\n",
    "Use the validation dataset to evaluate the models and compare the RMSE of each option.\\\n",
    "Round the RMSE scores to 2 decimal digits using round(score, 2)\\\n",
    "Which option gives better RMSE?"
   ]
  },
  {
   "cell_type": "code",
   "execution_count": 86,
   "id": "68383bd3",
   "metadata": {},
   "outputs": [],
   "source": [
    "def train_linear_regression(X, y):\n",
    "    ones = np.ones(X.shape[0])\n",
    "    X = np.column_stack([ones, X])\n",
    "\n",
    "    XTX = X.T.dot(X)\n",
    "    XTX_inv = np.linalg.inv(XTX)\n",
    "    w = XTX_inv.dot(X.T).dot(y)\n",
    "    \n",
    "    return w[0], w[1:]"
   ]
  },
  {
   "cell_type": "code",
   "execution_count": 87,
   "id": "4d0d55c9",
   "metadata": {},
   "outputs": [],
   "source": [
    "def prepare_X(df, mean_=True):\n",
    "    df_num = df.copy()\n",
    "    if mean_:\n",
    "        df_num = df_num.apply(lambda x: x.fillna(x.mean()),axis=0)\n",
    "    else:\n",
    "        df_num = df_num.fillna(0)\n",
    "    X = df_num.values\n",
    "    return X"
   ]
  },
  {
   "cell_type": "code",
   "execution_count": 89,
   "id": "8f1f4b57",
   "metadata": {},
   "outputs": [],
   "source": [
    "X_train = prepare_X(df_train, mean_=False)\n",
    "w_0, w = train_linear_regression(X_train, y_train)\n",
    "y_pred = w_0 + X_train.dot(w)"
   ]
  },
  {
   "cell_type": "code",
   "execution_count": 90,
   "id": "65f6d70f",
   "metadata": {},
   "outputs": [],
   "source": [
    "def rmse(y, y_pred):\n",
    "    error = y_pred - y\n",
    "    mse = (error ** 2).mean()\n",
    "    return np.sqrt(mse)"
   ]
  },
  {
   "cell_type": "code",
   "execution_count": 94,
   "id": "150e07d2",
   "metadata": {},
   "outputs": [
    {
     "data": {
      "text/plain": [
       "0.34"
      ]
     },
     "execution_count": 94,
     "metadata": {},
     "output_type": "execute_result"
    }
   ],
   "source": [
    "rmse(y_train, y_pred).round(2)"
   ]
  },
  {
   "cell_type": "code",
   "execution_count": 92,
   "id": "7afe7aba",
   "metadata": {},
   "outputs": [],
   "source": [
    "X_train = prepare_X(df_train, mean_=True)\n",
    "w_0, w = train_linear_regression(X_train, y_train)\n",
    "y_pred = w_0 + X_train.dot(w)"
   ]
  },
  {
   "cell_type": "code",
   "execution_count": 95,
   "id": "38bc507b",
   "metadata": {},
   "outputs": [
    {
     "data": {
      "text/plain": [
       "0.34"
      ]
     },
     "execution_count": 95,
     "metadata": {},
     "output_type": "execute_result"
    }
   ],
   "source": [
    "rmse(y_train, y_pred).round(2)"
   ]
  },
  {
   "cell_type": "markdown",
   "id": "c552e2c4",
   "metadata": {},
   "source": [
    "## Question 4\n",
    "Now let's train a regularized linear regression. \\\n",
    "For this question, fill the NAs with 0.\\\n",
    "Try different values of r from this list: [0, 0.000001, 0.0001, 0.001, 0.01, 0.1, 1, 5, 10].\\\n",
    "Use RMSE to evaluate the model on the validation dataset.\\\n",
    "Round the RMSE scores to 2 decimal digits.\\\n",
    "Which r gives the best RMSE?"
   ]
  },
  {
   "cell_type": "code",
   "execution_count": 98,
   "id": "0fae508f",
   "metadata": {},
   "outputs": [],
   "source": [
    "X_train = prepare_X(df_train, mean_=False)"
   ]
  },
  {
   "cell_type": "code",
   "execution_count": 99,
   "id": "b194efac",
   "metadata": {},
   "outputs": [],
   "source": [
    "def train_linear_regression_reg(X, y, r=0.0):\n",
    "    ones = np.ones(X.shape[0])\n",
    "    X = np.column_stack([ones, X])\n",
    "\n",
    "    XTX = X.T.dot(X)\n",
    "    reg = r * np.eye(XTX.shape[0])\n",
    "    XTX = XTX + reg\n",
    "\n",
    "    XTX_inv = np.linalg.inv(XTX)\n",
    "    w = XTX_inv.dot(X.T).dot(y)\n",
    "    \n",
    "    return w[0], w[1:]"
   ]
  },
  {
   "cell_type": "code",
   "execution_count": 104,
   "id": "aefdb74c",
   "metadata": {},
   "outputs": [
    {
     "name": "stdout",
     "output_type": "stream",
     "text": [
      "0 0.34 -11.686975242036949\n",
      "1e-06 0.34 -11.686959175729026\n",
      "0.0001 0.34 -11.685368865034674\n",
      "0.001 0.34 -11.670931317799855\n",
      "0.01 0.34 -11.528493585632152\n",
      "0.1 0.34 -10.274500282195046\n",
      "1 0.35 -4.920480897742162\n",
      "5 0.35 -1.4820957456212156\n",
      "10 0.35 -0.7899311831779148\n"
     ]
    }
   ],
   "source": [
    "for r in [0, 0.000001, 0.0001, 0.001, 0.01, 0.1, 1, 5, 10]:\n",
    "    w_0, w = train_linear_regression_reg(X_train, y_train, r=r)\n",
    "    y_pred = w_0 + X_train.dot(w)\n",
    "    score = rmse(y_train, y_pred).round(2)\n",
    "    print(r, score, w_0)"
   ]
  },
  {
   "cell_type": "markdown",
   "id": "1d775e9a",
   "metadata": {},
   "source": [
    "## Question 5\n",
    "We used seed 42 for splitting the data. Let's find out how selecting the seed influences our score.\\\n",
    "Try different seed values: [0, 1, 2, 3, 4, 5, 6, 7, 8, 9].\\\n",
    "For each seed, do the train/validation/test split with 60%/20%/20% distribution.\\\n",
    "Fill the missing values with 0 and train a model without regularization.\\\n",
    "For each seed, evaluate the model on the validation dataset and collect the RMSE scores.\\\n",
    "What's the standard deviation of all the scores? To compute the standard deviation, use np.std.\\\n",
    "Round the result to 3 decimal digits (round(std, 3))\\\n",
    "Note: Standard deviation shows how different the values are. If it's low, then all values are approximately the same. If it's high, the values are different. If standard deviation of scores is low, then our model is stable."
   ]
  },
  {
   "cell_type": "code",
   "execution_count": 161,
   "id": "8a01fa96",
   "metadata": {},
   "outputs": [],
   "source": [
    "rmses = []\n",
    "\n",
    "for seed in [0, 1, 2, 3, 4, 5, 6, 7, 8, 9]:\n",
    "    \n",
    "    np.random.seed(seed)\n",
    "    np.random.shuffle(idx)\n",
    "\n",
    "    df_train = cleaned_df.iloc[idx[:n_train]].copy()\n",
    "    df_val = cleaned_df.iloc[idx[n_train:n_train+n_val]].copy()\n",
    "    df_test = cleaned_df.iloc[idx[n_train+n_val:]].copy()\n",
    "\n",
    "    y_train = df_train.median_house_value.copy()\n",
    "    y_val = df_val.median_house_value.copy()\n",
    "    y_test = df_test.median_house_value.copy()\n",
    "\n",
    "    df_train.drop('median_house_value', axis=1, inplace=True)\n",
    "    df_val.drop('median_house_value', axis=1, inplace=True)\n",
    "    df_test.drop('median_house_value', axis=1, inplace=True)\n",
    "\n",
    "    y_train = np.log1p(y_train)\n",
    "    y_test = np.log1p(y_test)\n",
    "    y_val = np.log1p(y_val)\n",
    "    \n",
    "    \n",
    "    X_train = prepare_X(df_train, mean_=False)\n",
    "    w_0, w = train_linear_regression(X_train, y_train)\n",
    "    X_val = prepare_X(df_val, mean_=False)\n",
    "    y_pred = w_0 + X_val.dot(w)\n",
    "    \n",
    "    rmses.append(rmse(y_val, y_pred))"
   ]
  },
  {
   "cell_type": "code",
   "execution_count": 162,
   "id": "63c3140a",
   "metadata": {},
   "outputs": [
    {
     "data": {
      "text/plain": [
       "[0.33831784284146366,\n",
       " 0.34548155272450864,\n",
       " 0.3377242288528605,\n",
       " 0.3460515809807479,\n",
       " 0.34967188703887087,\n",
       " 0.3500112710772948,\n",
       " 0.34346731104095496,\n",
       " 0.3376737453610698,\n",
       " 0.3416421517045011,\n",
       " 0.3522514926587404]"
      ]
     },
     "execution_count": 162,
     "metadata": {},
     "output_type": "execute_result"
    }
   ],
   "source": [
    "rmses"
   ]
  },
  {
   "cell_type": "code",
   "execution_count": 163,
   "id": "8c4363ff",
   "metadata": {},
   "outputs": [
    {
     "data": {
      "text/plain": [
       "0.005"
      ]
     },
     "execution_count": 163,
     "metadata": {},
     "output_type": "execute_result"
    }
   ],
   "source": [
    "np.std(rmses).round(3)"
   ]
  },
  {
   "cell_type": "markdown",
   "id": "9364358a",
   "metadata": {},
   "source": [
    "## Question 6\n",
    "Split the dataset like previously, use seed 9.\\\n",
    "Combine train and validation datasets.\\\n",
    "Fill the missing values with 0 and train a model with r=0.001.\\\n",
    "What's the RMSE on the test dataset?"
   ]
  },
  {
   "cell_type": "code",
   "execution_count": 130,
   "id": "ac259787",
   "metadata": {},
   "outputs": [
    {
     "data": {
      "text/plain": [
       "0.35122887040818673"
      ]
     },
     "execution_count": 130,
     "metadata": {},
     "output_type": "execute_result"
    }
   ],
   "source": [
    "seed = 9\n",
    "np.random.seed(seed)\n",
    "np.random.shuffle(idx)\n",
    "\n",
    "df_train = cleaned_df.iloc[idx[:n_train]].copy()\n",
    "df_val = cleaned_df.iloc[idx[n_train:n_train+n_val]].copy()\n",
    "df_test = cleaned_df.iloc[idx[n_train+n_val:]].copy()\n",
    "\n",
    "y_train = df_train.median_house_value.copy()\n",
    "y_val = df_val.median_house_value.copy()\n",
    "y_test = df_test.median_house_value.copy()\n",
    "\n",
    "df_train.drop('median_house_value', axis=1, inplace=True)\n",
    "df_val.drop('median_house_value', axis=1, inplace=True)\n",
    "df_test.drop('median_house_value', axis=1, inplace=True)\n",
    "\n",
    "y_train = np.log1p(y_train)\n",
    "y_test = np.log1p(y_test)\n",
    "y_val = np.log1p(y_val)\n",
    "\n",
    "\n",
    "X_train = prepare_X(df_train, mean_=False)\n",
    "w_0, w = train_linear_regression_reg(X_train, y_train, r=0.001)\n",
    "X_val = prepare_X(df_val, mean_=False)\n",
    "y_pred = w_0 + X_val.dot(w)\n",
    "rmse(y_val, y_pred)"
   ]
  },
  {
   "cell_type": "code",
   "execution_count": null,
   "id": "3a642e14",
   "metadata": {},
   "outputs": [],
   "source": []
  }
 ],
 "metadata": {
  "kernelspec": {
   "display_name": "zoomcamp",
   "language": "python",
   "name": "zoomcamp"
  },
  "language_info": {
   "codemirror_mode": {
    "name": "ipython",
    "version": 3
   },
   "file_extension": ".py",
   "mimetype": "text/x-python",
   "name": "python",
   "nbconvert_exporter": "python",
   "pygments_lexer": "ipython3",
   "version": "3.9.13"
  }
 },
 "nbformat": 4,
 "nbformat_minor": 5
}
